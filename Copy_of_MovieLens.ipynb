{
  "nbformat": 4,
  "nbformat_minor": 0,
  "metadata": {
    "colab": {
      "name": "Copy of MovieLens",
      "provenance": [],
      "collapsed_sections": [],
      "authorship_tag": "ABX9TyPvnesQjEX/7qxkV5+wr6Wf",
      "include_colab_link": true
    },
    "kernelspec": {
      "name": "python3",
      "display_name": "Python 3"
    }
  },
  "cells": [
    {
      "cell_type": "markdown",
      "metadata": {
        "id": "view-in-github",
        "colab_type": "text"
      },
      "source": [
        "<a href=\"https://colab.research.google.com/github/GabrielGuilherme88/AnaliseMovieLens/blob/master/Copy_of_MovieLens.ipynb\" target=\"_parent\"><img src=\"https://colab.research.google.com/assets/colab-badge.svg\" alt=\"Open In Colab\"/></a>"
      ]
    },
    {
      "cell_type": "code",
      "metadata": {
        "id": "Lx5ymqsu_OcD",
        "colab_type": "code",
        "colab": {}
      },
      "source": [
        "import pandas as pd"
      ],
      "execution_count": null,
      "outputs": []
    },
    {
      "cell_type": "code",
      "metadata": {
        "id": "ptCTmVveAkxh",
        "colab_type": "code",
        "colab": {
          "base_uri": "https://localhost:8080/",
          "height": 255
        },
        "outputId": "b1cc6d95-e227-494f-b698-5f3269d4f454"
      },
      "source": [
        "#Para leitura de arquivos em CSV diretamente do GITHUB\n",
        "movies =pd.read_csv(\"https://raw.githubusercontent.com/alura-cursos/introducao-a-data-science/master/aula0/ml-latest-small/movies.csv\")\n",
        "movies.head"
      ],
      "execution_count": null,
      "outputs": [
        {
          "output_type": "execute_result",
          "data": {
            "text/plain": [
              "<bound method NDFrame.head of       movieId  ...                                       genres\n",
              "0           1  ...  Adventure|Animation|Children|Comedy|Fantasy\n",
              "1           2  ...                   Adventure|Children|Fantasy\n",
              "2           3  ...                               Comedy|Romance\n",
              "3           4  ...                         Comedy|Drama|Romance\n",
              "4           5  ...                                       Comedy\n",
              "...       ...  ...                                          ...\n",
              "9737   193581  ...              Action|Animation|Comedy|Fantasy\n",
              "9738   193583  ...                     Animation|Comedy|Fantasy\n",
              "9739   193585  ...                                        Drama\n",
              "9740   193587  ...                             Action|Animation\n",
              "9741   193609  ...                                       Comedy\n",
              "\n",
              "[9742 rows x 3 columns]>"
            ]
          },
          "metadata": {
            "tags": []
          },
          "execution_count": 2
        }
      ]
    },
    {
      "cell_type": "code",
      "metadata": {
        "id": "h0Plwa8rIABn",
        "colab_type": "code",
        "colab": {
          "base_uri": "https://localhost:8080/",
          "height": 204
        },
        "outputId": "c166744c-7133-4ae6-f105-4469f123de04"
      },
      "source": [
        "ratings = pd.read_csv(\"https://raw.githubusercontent.com/alura-cursos/introducao-a-data-science/master/aula0/ml-latest-small/ratings.csv\")\n",
        "ratings.head()\n"
      ],
      "execution_count": null,
      "outputs": [
        {
          "output_type": "execute_result",
          "data": {
            "text/html": [
              "<div>\n",
              "<style scoped>\n",
              "    .dataframe tbody tr th:only-of-type {\n",
              "        vertical-align: middle;\n",
              "    }\n",
              "\n",
              "    .dataframe tbody tr th {\n",
              "        vertical-align: top;\n",
              "    }\n",
              "\n",
              "    .dataframe thead th {\n",
              "        text-align: right;\n",
              "    }\n",
              "</style>\n",
              "<table border=\"1\" class=\"dataframe\">\n",
              "  <thead>\n",
              "    <tr style=\"text-align: right;\">\n",
              "      <th></th>\n",
              "      <th>userId</th>\n",
              "      <th>movieId</th>\n",
              "      <th>rating</th>\n",
              "      <th>timestamp</th>\n",
              "    </tr>\n",
              "  </thead>\n",
              "  <tbody>\n",
              "    <tr>\n",
              "      <th>0</th>\n",
              "      <td>1</td>\n",
              "      <td>1</td>\n",
              "      <td>4.0</td>\n",
              "      <td>964982703</td>\n",
              "    </tr>\n",
              "    <tr>\n",
              "      <th>1</th>\n",
              "      <td>1</td>\n",
              "      <td>3</td>\n",
              "      <td>4.0</td>\n",
              "      <td>964981247</td>\n",
              "    </tr>\n",
              "    <tr>\n",
              "      <th>2</th>\n",
              "      <td>1</td>\n",
              "      <td>6</td>\n",
              "      <td>4.0</td>\n",
              "      <td>964982224</td>\n",
              "    </tr>\n",
              "    <tr>\n",
              "      <th>3</th>\n",
              "      <td>1</td>\n",
              "      <td>47</td>\n",
              "      <td>5.0</td>\n",
              "      <td>964983815</td>\n",
              "    </tr>\n",
              "    <tr>\n",
              "      <th>4</th>\n",
              "      <td>1</td>\n",
              "      <td>50</td>\n",
              "      <td>5.0</td>\n",
              "      <td>964982931</td>\n",
              "    </tr>\n",
              "  </tbody>\n",
              "</table>\n",
              "</div>"
            ],
            "text/plain": [
              "   userId  movieId  rating  timestamp\n",
              "0       1        1     4.0  964982703\n",
              "1       1        3     4.0  964981247\n",
              "2       1        6     4.0  964982224\n",
              "3       1       47     5.0  964983815\n",
              "4       1       50     5.0  964982931"
            ]
          },
          "metadata": {
            "tags": []
          },
          "execution_count": 3
        }
      ]
    },
    {
      "cell_type": "code",
      "metadata": {
        "id": "9n8zl06WBrKl",
        "colab_type": "code",
        "colab": {}
      },
      "source": [
        "import pandas as pd #manipulação de dados\n",
        "import io\n",
        "from google.colab import files"
      ],
      "execution_count": null,
      "outputs": []
    },
    {
      "cell_type": "code",
      "metadata": {
        "id": "WQA527iCLzFf",
        "colab_type": "code",
        "colab": {
          "base_uri": "https://localhost:8080/",
          "height": 80
        },
        "outputId": "840a2f8d-0551-4e25-f669-b8403f2eb6d8"
      },
      "source": [
        "#o comando quhery faz uma busca, em determinada coluna do valor desejado, no caso abaixo, ==1\n",
        "movies.query(\"movieId == 1\")\n"
      ],
      "execution_count": null,
      "outputs": [
        {
          "output_type": "execute_result",
          "data": {
            "text/html": [
              "<div>\n",
              "<style scoped>\n",
              "    .dataframe tbody tr th:only-of-type {\n",
              "        vertical-align: middle;\n",
              "    }\n",
              "\n",
              "    .dataframe tbody tr th {\n",
              "        vertical-align: top;\n",
              "    }\n",
              "\n",
              "    .dataframe thead th {\n",
              "        text-align: right;\n",
              "    }\n",
              "</style>\n",
              "<table border=\"1\" class=\"dataframe\">\n",
              "  <thead>\n",
              "    <tr style=\"text-align: right;\">\n",
              "      <th></th>\n",
              "      <th>movieId</th>\n",
              "      <th>title</th>\n",
              "      <th>genres</th>\n",
              "    </tr>\n",
              "  </thead>\n",
              "  <tbody>\n",
              "    <tr>\n",
              "      <th>0</th>\n",
              "      <td>1</td>\n",
              "      <td>Toy Story (1995)</td>\n",
              "      <td>Adventure|Animation|Children|Comedy|Fantasy</td>\n",
              "    </tr>\n",
              "  </tbody>\n",
              "</table>\n",
              "</div>"
            ],
            "text/plain": [
              "   movieId             title                                       genres\n",
              "0        1  Toy Story (1995)  Adventure|Animation|Children|Comedy|Fantasy"
            ]
          },
          "metadata": {
            "tags": []
          },
          "execution_count": 5
        }
      ]
    },
    {
      "cell_type": "code",
      "metadata": {
        "id": "dwQrj5e1MxD5",
        "colab_type": "code",
        "colab": {
          "base_uri": "https://localhost:8080/",
          "height": 204
        },
        "outputId": "5c438227-3d0b-4ad4-ad17-b6ec20ff9830"
      },
      "source": [
        "ratings.head()"
      ],
      "execution_count": null,
      "outputs": [
        {
          "output_type": "execute_result",
          "data": {
            "text/html": [
              "<div>\n",
              "<style scoped>\n",
              "    .dataframe tbody tr th:only-of-type {\n",
              "        vertical-align: middle;\n",
              "    }\n",
              "\n",
              "    .dataframe tbody tr th {\n",
              "        vertical-align: top;\n",
              "    }\n",
              "\n",
              "    .dataframe thead th {\n",
              "        text-align: right;\n",
              "    }\n",
              "</style>\n",
              "<table border=\"1\" class=\"dataframe\">\n",
              "  <thead>\n",
              "    <tr style=\"text-align: right;\">\n",
              "      <th></th>\n",
              "      <th>userId</th>\n",
              "      <th>movieId</th>\n",
              "      <th>rating</th>\n",
              "      <th>timestamp</th>\n",
              "    </tr>\n",
              "  </thead>\n",
              "  <tbody>\n",
              "    <tr>\n",
              "      <th>0</th>\n",
              "      <td>1</td>\n",
              "      <td>1</td>\n",
              "      <td>4.0</td>\n",
              "      <td>964982703</td>\n",
              "    </tr>\n",
              "    <tr>\n",
              "      <th>1</th>\n",
              "      <td>1</td>\n",
              "      <td>3</td>\n",
              "      <td>4.0</td>\n",
              "      <td>964981247</td>\n",
              "    </tr>\n",
              "    <tr>\n",
              "      <th>2</th>\n",
              "      <td>1</td>\n",
              "      <td>6</td>\n",
              "      <td>4.0</td>\n",
              "      <td>964982224</td>\n",
              "    </tr>\n",
              "    <tr>\n",
              "      <th>3</th>\n",
              "      <td>1</td>\n",
              "      <td>47</td>\n",
              "      <td>5.0</td>\n",
              "      <td>964983815</td>\n",
              "    </tr>\n",
              "    <tr>\n",
              "      <th>4</th>\n",
              "      <td>1</td>\n",
              "      <td>50</td>\n",
              "      <td>5.0</td>\n",
              "      <td>964982931</td>\n",
              "    </tr>\n",
              "  </tbody>\n",
              "</table>\n",
              "</div>"
            ],
            "text/plain": [
              "   userId  movieId  rating  timestamp\n",
              "0       1        1     4.0  964982703\n",
              "1       1        3     4.0  964981247\n",
              "2       1        6     4.0  964982224\n",
              "3       1       47     5.0  964983815\n",
              "4       1       50     5.0  964982931"
            ]
          },
          "metadata": {
            "tags": []
          },
          "execution_count": 6
        }
      ]
    },
    {
      "cell_type": "code",
      "metadata": {
        "id": "ghlUeVM_M0OS",
        "colab_type": "code",
        "colab": {
          "base_uri": "https://localhost:8080/",
          "height": 34
        },
        "outputId": "4a031b66-4ce9-445b-9fc1-2269af62a913"
      },
      "source": [
        "ratings.shape #mostra a dimensão do dataframe, número de linhas e colunas"
      ],
      "execution_count": null,
      "outputs": [
        {
          "output_type": "execute_result",
          "data": {
            "text/plain": [
              "(100836, 4)"
            ]
          },
          "metadata": {
            "tags": []
          },
          "execution_count": 7
        }
      ]
    },
    {
      "cell_type": "code",
      "metadata": {
        "id": "-dEoveJQM4fQ",
        "colab_type": "code",
        "colab": {
          "base_uri": "https://localhost:8080/",
          "height": 297
        },
        "outputId": "56f1f566-dc92-4a37-d13c-19352ad09008"
      },
      "source": [
        "ratings.describe()"
      ],
      "execution_count": null,
      "outputs": [
        {
          "output_type": "execute_result",
          "data": {
            "text/html": [
              "<div>\n",
              "<style scoped>\n",
              "    .dataframe tbody tr th:only-of-type {\n",
              "        vertical-align: middle;\n",
              "    }\n",
              "\n",
              "    .dataframe tbody tr th {\n",
              "        vertical-align: top;\n",
              "    }\n",
              "\n",
              "    .dataframe thead th {\n",
              "        text-align: right;\n",
              "    }\n",
              "</style>\n",
              "<table border=\"1\" class=\"dataframe\">\n",
              "  <thead>\n",
              "    <tr style=\"text-align: right;\">\n",
              "      <th></th>\n",
              "      <th>userId</th>\n",
              "      <th>movieId</th>\n",
              "      <th>rating</th>\n",
              "      <th>timestamp</th>\n",
              "    </tr>\n",
              "  </thead>\n",
              "  <tbody>\n",
              "    <tr>\n",
              "      <th>count</th>\n",
              "      <td>100836.000000</td>\n",
              "      <td>100836.000000</td>\n",
              "      <td>100836.000000</td>\n",
              "      <td>1.008360e+05</td>\n",
              "    </tr>\n",
              "    <tr>\n",
              "      <th>mean</th>\n",
              "      <td>326.127564</td>\n",
              "      <td>19435.295718</td>\n",
              "      <td>3.501557</td>\n",
              "      <td>1.205946e+09</td>\n",
              "    </tr>\n",
              "    <tr>\n",
              "      <th>std</th>\n",
              "      <td>182.618491</td>\n",
              "      <td>35530.987199</td>\n",
              "      <td>1.042529</td>\n",
              "      <td>2.162610e+08</td>\n",
              "    </tr>\n",
              "    <tr>\n",
              "      <th>min</th>\n",
              "      <td>1.000000</td>\n",
              "      <td>1.000000</td>\n",
              "      <td>0.500000</td>\n",
              "      <td>8.281246e+08</td>\n",
              "    </tr>\n",
              "    <tr>\n",
              "      <th>25%</th>\n",
              "      <td>177.000000</td>\n",
              "      <td>1199.000000</td>\n",
              "      <td>3.000000</td>\n",
              "      <td>1.019124e+09</td>\n",
              "    </tr>\n",
              "    <tr>\n",
              "      <th>50%</th>\n",
              "      <td>325.000000</td>\n",
              "      <td>2991.000000</td>\n",
              "      <td>3.500000</td>\n",
              "      <td>1.186087e+09</td>\n",
              "    </tr>\n",
              "    <tr>\n",
              "      <th>75%</th>\n",
              "      <td>477.000000</td>\n",
              "      <td>8122.000000</td>\n",
              "      <td>4.000000</td>\n",
              "      <td>1.435994e+09</td>\n",
              "    </tr>\n",
              "    <tr>\n",
              "      <th>max</th>\n",
              "      <td>610.000000</td>\n",
              "      <td>193609.000000</td>\n",
              "      <td>5.000000</td>\n",
              "      <td>1.537799e+09</td>\n",
              "    </tr>\n",
              "  </tbody>\n",
              "</table>\n",
              "</div>"
            ],
            "text/plain": [
              "              userId        movieId         rating     timestamp\n",
              "count  100836.000000  100836.000000  100836.000000  1.008360e+05\n",
              "mean      326.127564   19435.295718       3.501557  1.205946e+09\n",
              "std       182.618491   35530.987199       1.042529  2.162610e+08\n",
              "min         1.000000       1.000000       0.500000  8.281246e+08\n",
              "25%       177.000000    1199.000000       3.000000  1.019124e+09\n",
              "50%       325.000000    2991.000000       3.500000  1.186087e+09\n",
              "75%       477.000000    8122.000000       4.000000  1.435994e+09\n",
              "max       610.000000  193609.000000       5.000000  1.537799e+09"
            ]
          },
          "metadata": {
            "tags": []
          },
          "execution_count": 8
        }
      ]
    },
    {
      "cell_type": "code",
      "metadata": {
        "id": "l1x7NmdKM-xv",
        "colab_type": "code",
        "colab": {
          "base_uri": "https://localhost:8080/",
          "height": 136
        },
        "outputId": "39880f65-9507-4644-bc8b-9a1ca1b38857"
      },
      "source": [
        "#Retorna a média da coluna movieId agrupado pela coluna rating do dataframe ratings\n",
        "m_rating = ratings.groupby(\"movieId\")[\"rating\"].mean()\n",
        "m_rating.head()"
      ],
      "execution_count": null,
      "outputs": [
        {
          "output_type": "execute_result",
          "data": {
            "text/plain": [
              "movieId\n",
              "1    3.920930\n",
              "2    3.431818\n",
              "3    3.259615\n",
              "4    2.357143\n",
              "5    3.071429\n",
              "Name: rating, dtype: float64"
            ]
          },
          "metadata": {
            "tags": []
          },
          "execution_count": 9
        }
      ]
    },
    {
      "cell_type": "markdown",
      "metadata": {
        "id": "gCLE0BXc8PP5",
        "colab_type": "text"
      },
      "source": [
        "**Desafio 1: Determinar quantos filmes não possuem avaliações, e quais são eles**\n",
        "\n",
        "**Desafio 2: Alterar o nome da coluna de médias das notas**"
      ]
    },
    {
      "cell_type": "code",
      "metadata": {
        "id": "DNsVEG_h8OhY",
        "colab_type": "code",
        "colab": {
          "base_uri": "https://localhost:8080/",
          "height": 204
        },
        "outputId": "cb68db3c-cf71-4921-e416-51f9aee6f867"
      },
      "source": [
        "movies_avg = movies.join(m_rating, on = \"movieId\")\n",
        "movies_avg.columns = [\"movieId\" ,\"tittle\" ,\"genres\" ,\"avgrating\"]\n",
        "movies_avg.head()"
      ],
      "execution_count": null,
      "outputs": [
        {
          "output_type": "execute_result",
          "data": {
            "text/html": [
              "<div>\n",
              "<style scoped>\n",
              "    .dataframe tbody tr th:only-of-type {\n",
              "        vertical-align: middle;\n",
              "    }\n",
              "\n",
              "    .dataframe tbody tr th {\n",
              "        vertical-align: top;\n",
              "    }\n",
              "\n",
              "    .dataframe thead th {\n",
              "        text-align: right;\n",
              "    }\n",
              "</style>\n",
              "<table border=\"1\" class=\"dataframe\">\n",
              "  <thead>\n",
              "    <tr style=\"text-align: right;\">\n",
              "      <th></th>\n",
              "      <th>movieId</th>\n",
              "      <th>tittle</th>\n",
              "      <th>genres</th>\n",
              "      <th>avgrating</th>\n",
              "    </tr>\n",
              "  </thead>\n",
              "  <tbody>\n",
              "    <tr>\n",
              "      <th>0</th>\n",
              "      <td>1</td>\n",
              "      <td>Toy Story (1995)</td>\n",
              "      <td>Adventure|Animation|Children|Comedy|Fantasy</td>\n",
              "      <td>3.920930</td>\n",
              "    </tr>\n",
              "    <tr>\n",
              "      <th>1</th>\n",
              "      <td>2</td>\n",
              "      <td>Jumanji (1995)</td>\n",
              "      <td>Adventure|Children|Fantasy</td>\n",
              "      <td>3.431818</td>\n",
              "    </tr>\n",
              "    <tr>\n",
              "      <th>2</th>\n",
              "      <td>3</td>\n",
              "      <td>Grumpier Old Men (1995)</td>\n",
              "      <td>Comedy|Romance</td>\n",
              "      <td>3.259615</td>\n",
              "    </tr>\n",
              "    <tr>\n",
              "      <th>3</th>\n",
              "      <td>4</td>\n",
              "      <td>Waiting to Exhale (1995)</td>\n",
              "      <td>Comedy|Drama|Romance</td>\n",
              "      <td>2.357143</td>\n",
              "    </tr>\n",
              "    <tr>\n",
              "      <th>4</th>\n",
              "      <td>5</td>\n",
              "      <td>Father of the Bride Part II (1995)</td>\n",
              "      <td>Comedy</td>\n",
              "      <td>3.071429</td>\n",
              "    </tr>\n",
              "  </tbody>\n",
              "</table>\n",
              "</div>"
            ],
            "text/plain": [
              "   movieId  ... avgrating\n",
              "0        1  ...  3.920930\n",
              "1        2  ...  3.431818\n",
              "2        3  ...  3.259615\n",
              "3        4  ...  2.357143\n",
              "4        5  ...  3.071429\n",
              "\n",
              "[5 rows x 4 columns]"
            ]
          },
          "metadata": {
            "tags": []
          },
          "execution_count": 10
        }
      ]
    },
    {
      "cell_type": "code",
      "metadata": {
        "id": "_VUZg7OP8OqB",
        "colab_type": "code",
        "colab": {
          "base_uri": "https://localhost:8080/",
          "height": 323
        },
        "outputId": "ebda205d-5e6d-42b7-ae0d-93a1562d97a8"
      },
      "source": [
        "df = movies_avg[movies_avg.avgrating.isna()]\n",
        "for x in df.tittle:\n",
        "    print(x)"
      ],
      "execution_count": null,
      "outputs": [
        {
          "output_type": "stream",
          "text": [
            "Innocents, The (1961)\n",
            "Niagara (1953)\n",
            "For All Mankind (1989)\n",
            "Color of Paradise, The (Rang-e khoda) (1999)\n",
            "I Know Where I'm Going! (1945)\n",
            "Chosen, The (1981)\n",
            "Road Home, The (Wo de fu qin mu qin) (1999)\n",
            "Scrooge (1970)\n",
            "Proof (1991)\n",
            "Parallax View, The (1974)\n",
            "This Gun for Hire (1942)\n",
            "Roaring Twenties, The (1939)\n",
            "Mutiny on the Bounty (1962)\n",
            "In the Realms of the Unreal (2004)\n",
            "Twentieth Century (1934)\n",
            "Call Northside 777 (1948)\n",
            "Browning Version, The (1951)\n",
            "Chalet Girl (2011)\n"
          ],
          "name": "stdout"
        }
      ]
    },
    {
      "cell_type": "markdown",
      "metadata": {
        "id": "lOFEmwleHFGs",
        "colab_type": "text"
      },
      "source": [
        "**Desafio 3: Colocar o número de avaliações por filme, isto é, não só a média mas o TOTAL de votos por filme.**"
      ]
    },
    {
      "cell_type": "code",
      "metadata": {
        "id": "15lEkmXpHCqE",
        "colab_type": "code",
        "colab": {
          "base_uri": "https://localhost:8080/",
          "height": 204
        },
        "outputId": "1a29a60f-b7fe-4f64-dca9-11fd29f1a3b3"
      },
      "source": [
        "avaliações_count = ratings.groupby(\"movieId\")[\"rating\"].count()\n",
        "movies_count = movies.join(avaliações_count, on = \"movieId\")\n",
        "movies_count.columns = [\"movieId\" ,\"tittle\" ,\"genres\" ,\"count_rating\"]\n",
        "movies_count = movies_count.sort_values(\"count_rating\", ascending = False) \n",
        "movies_count.head()"
      ],
      "execution_count": null,
      "outputs": [
        {
          "output_type": "execute_result",
          "data": {
            "text/html": [
              "<div>\n",
              "<style scoped>\n",
              "    .dataframe tbody tr th:only-of-type {\n",
              "        vertical-align: middle;\n",
              "    }\n",
              "\n",
              "    .dataframe tbody tr th {\n",
              "        vertical-align: top;\n",
              "    }\n",
              "\n",
              "    .dataframe thead th {\n",
              "        text-align: right;\n",
              "    }\n",
              "</style>\n",
              "<table border=\"1\" class=\"dataframe\">\n",
              "  <thead>\n",
              "    <tr style=\"text-align: right;\">\n",
              "      <th></th>\n",
              "      <th>movieId</th>\n",
              "      <th>tittle</th>\n",
              "      <th>genres</th>\n",
              "      <th>count_rating</th>\n",
              "    </tr>\n",
              "  </thead>\n",
              "  <tbody>\n",
              "    <tr>\n",
              "      <th>314</th>\n",
              "      <td>356</td>\n",
              "      <td>Forrest Gump (1994)</td>\n",
              "      <td>Comedy|Drama|Romance|War</td>\n",
              "      <td>329.0</td>\n",
              "    </tr>\n",
              "    <tr>\n",
              "      <th>277</th>\n",
              "      <td>318</td>\n",
              "      <td>Shawshank Redemption, The (1994)</td>\n",
              "      <td>Crime|Drama</td>\n",
              "      <td>317.0</td>\n",
              "    </tr>\n",
              "    <tr>\n",
              "      <th>257</th>\n",
              "      <td>296</td>\n",
              "      <td>Pulp Fiction (1994)</td>\n",
              "      <td>Comedy|Crime|Drama|Thriller</td>\n",
              "      <td>307.0</td>\n",
              "    </tr>\n",
              "    <tr>\n",
              "      <th>510</th>\n",
              "      <td>593</td>\n",
              "      <td>Silence of the Lambs, The (1991)</td>\n",
              "      <td>Crime|Horror|Thriller</td>\n",
              "      <td>279.0</td>\n",
              "    </tr>\n",
              "    <tr>\n",
              "      <th>1939</th>\n",
              "      <td>2571</td>\n",
              "      <td>Matrix, The (1999)</td>\n",
              "      <td>Action|Sci-Fi|Thriller</td>\n",
              "      <td>278.0</td>\n",
              "    </tr>\n",
              "  </tbody>\n",
              "</table>\n",
              "</div>"
            ],
            "text/plain": [
              "      movieId  ... count_rating\n",
              "314       356  ...        329.0\n",
              "277       318  ...        317.0\n",
              "257       296  ...        307.0\n",
              "510       593  ...        279.0\n",
              "1939     2571  ...        278.0\n",
              "\n",
              "[5 rows x 4 columns]"
            ]
          },
          "metadata": {
            "tags": []
          },
          "execution_count": 12
        }
      ]
    },
    {
      "cell_type": "markdown",
      "metadata": {
        "id": "5gh5qVDNGnGc",
        "colab_type": "text"
      },
      "source": [
        "**Desafio 4: alterar as casas decimais**"
      ]
    },
    {
      "cell_type": "code",
      "metadata": {
        "id": "AHvPDgb5OqWZ",
        "colab_type": "code",
        "colab": {
          "base_uri": "https://localhost:8080/",
          "height": 204
        },
        "outputId": "4ec6db51-3bf0-4443-91ca-6ce5313d53b0"
      },
      "source": [
        "#Desafio 4\n",
        "movies_avg2 = movies_avg.round({\"avgrating\": 2}) #arredondar as casas decimais da coluna avg_rating\n",
        "movies_avg2.head()"
      ],
      "execution_count": null,
      "outputs": [
        {
          "output_type": "execute_result",
          "data": {
            "text/html": [
              "<div>\n",
              "<style scoped>\n",
              "    .dataframe tbody tr th:only-of-type {\n",
              "        vertical-align: middle;\n",
              "    }\n",
              "\n",
              "    .dataframe tbody tr th {\n",
              "        vertical-align: top;\n",
              "    }\n",
              "\n",
              "    .dataframe thead th {\n",
              "        text-align: right;\n",
              "    }\n",
              "</style>\n",
              "<table border=\"1\" class=\"dataframe\">\n",
              "  <thead>\n",
              "    <tr style=\"text-align: right;\">\n",
              "      <th></th>\n",
              "      <th>movieId</th>\n",
              "      <th>tittle</th>\n",
              "      <th>genres</th>\n",
              "      <th>avgrating</th>\n",
              "    </tr>\n",
              "  </thead>\n",
              "  <tbody>\n",
              "    <tr>\n",
              "      <th>0</th>\n",
              "      <td>1</td>\n",
              "      <td>Toy Story (1995)</td>\n",
              "      <td>Adventure|Animation|Children|Comedy|Fantasy</td>\n",
              "      <td>3.92</td>\n",
              "    </tr>\n",
              "    <tr>\n",
              "      <th>1</th>\n",
              "      <td>2</td>\n",
              "      <td>Jumanji (1995)</td>\n",
              "      <td>Adventure|Children|Fantasy</td>\n",
              "      <td>3.43</td>\n",
              "    </tr>\n",
              "    <tr>\n",
              "      <th>2</th>\n",
              "      <td>3</td>\n",
              "      <td>Grumpier Old Men (1995)</td>\n",
              "      <td>Comedy|Romance</td>\n",
              "      <td>3.26</td>\n",
              "    </tr>\n",
              "    <tr>\n",
              "      <th>3</th>\n",
              "      <td>4</td>\n",
              "      <td>Waiting to Exhale (1995)</td>\n",
              "      <td>Comedy|Drama|Romance</td>\n",
              "      <td>2.36</td>\n",
              "    </tr>\n",
              "    <tr>\n",
              "      <th>4</th>\n",
              "      <td>5</td>\n",
              "      <td>Father of the Bride Part II (1995)</td>\n",
              "      <td>Comedy</td>\n",
              "      <td>3.07</td>\n",
              "    </tr>\n",
              "  </tbody>\n",
              "</table>\n",
              "</div>"
            ],
            "text/plain": [
              "   movieId  ... avgrating\n",
              "0        1  ...      3.92\n",
              "1        2  ...      3.43\n",
              "2        3  ...      3.26\n",
              "3        4  ...      2.36\n",
              "4        5  ...      3.07\n",
              "\n",
              "[5 rows x 4 columns]"
            ]
          },
          "metadata": {
            "tags": []
          },
          "execution_count": 13
        }
      ]
    },
    {
      "cell_type": "markdown",
      "metadata": {
        "id": "dcAKX8EZMFVz",
        "colab_type": "text"
      },
      "source": [
        "**Desafio 5: Descobrir os generos dos filmes (quais são eles, únicos)**"
      ]
    },
    {
      "cell_type": "code",
      "metadata": {
        "id": "zRAC9oo_QuWf",
        "colab_type": "code",
        "colab": {
          "base_uri": "https://localhost:8080/",
          "height": 374
        },
        "outputId": "5db952f5-de3c-4d25-8d04-eea9b85aa754"
      },
      "source": [
        "import numpy as np\n",
        "generos_filmes = movies_avg2.genres.str.split(pat=\"|\")\n",
        "generos = pd.Series(np.concatenate(generos_filmes)).value_counts()\n",
        "generos.head(50)"
      ],
      "execution_count": null,
      "outputs": [
        {
          "output_type": "execute_result",
          "data": {
            "text/plain": [
              "Drama                 4361\n",
              "Comedy                3756\n",
              "Thriller              1894\n",
              "Action                1828\n",
              "Romance               1596\n",
              "Adventure             1263\n",
              "Crime                 1199\n",
              "Sci-Fi                 980\n",
              "Horror                 978\n",
              "Fantasy                779\n",
              "Children               664\n",
              "Animation              611\n",
              "Mystery                573\n",
              "Documentary            440\n",
              "War                    382\n",
              "Musical                334\n",
              "Western                167\n",
              "IMAX                   158\n",
              "Film-Noir               87\n",
              "(no genres listed)      34\n",
              "dtype: int64"
            ]
          },
          "metadata": {
            "tags": []
          },
          "execution_count": 14
        }
      ]
    },
    {
      "cell_type": "markdown",
      "metadata": {
        "id": "NZqZKpd6SSe3",
        "colab_type": "text"
      },
      "source": [
        "**Desafio 7 - Plotar em barras quantas vezes cada gênero aparece**"
      ]
    },
    {
      "cell_type": "code",
      "metadata": {
        "id": "3dDkJf7BSZB9",
        "colab_type": "code",
        "colab": {}
      },
      "source": [
        "import matplotlib.pyplot as plt"
      ],
      "execution_count": null,
      "outputs": []
    },
    {
      "cell_type": "code",
      "metadata": {
        "id": "NS0UTNbdSZNi",
        "colab_type": "code",
        "colab": {
          "base_uri": "https://localhost:8080/",
          "height": 572
        },
        "outputId": "80bb8353-ba91-46fb-c637-d49e9ff497d5"
      },
      "source": [
        "plt.figure(figsize=(15,8))\n",
        "generos.plot(kind='bar',title='Genres occurrence')\n",
        "plt.xlabel(\"Genres\")\n",
        "plt.ylabel(\"Occurrence\")\n",
        "plt.xticks(rotation=45)\n",
        "plt.show()"
      ],
      "execution_count": null,
      "outputs": [
        {
          "output_type": "display_data",
          "data": {
            "image/png": "[encoded data removed]",
            "text/plain": [
              "<Figure size 1080x576 with 1 Axes>"
            ]
          },
          "metadata": {
            "tags": [],
            "needs_background": "light"
          }
        }
      ]
    },
    {
      "cell_type": "code",
      "metadata": {
        "id": "PfczGgu5QuDn",
        "colab_type": "code",
        "colab": {}
      },
      "source": [
        "#####################################################################################################################################################"
      ],
      "execution_count": null,
      "outputs": []
    },
    {
      "cell_type": "code",
      "metadata": {
        "id": "IHlRIlkWhNkn",
        "colab_type": "code",
        "colab": {
          "base_uri": "https://localhost:8080/",
          "height": 419
        },
        "outputId": "8b8b2dcf-2aed-4ead-bf48-a695ac37a614"
      },
      "source": [
        "#Separa a coluna genres em novas colunas renomeadas \n",
        "split_genres = movies.join(movies['genres'].str.split('|', 4, expand=True).rename(columns={0:'genres1', 1:'genres2', 2:\"genres3\", 3:\"genres4\", 4: \"genres5\"}))\n",
        "split_genres.head(200)"
      ],
      "execution_count": null,
      "outputs": [
        {
          "output_type": "execute_result",
          "data": {
            "text/html": [
              "<div>\n",
              "<style scoped>\n",
              "    .dataframe tbody tr th:only-of-type {\n",
              "        vertical-align: middle;\n",
              "    }\n",
              "\n",
              "    .dataframe tbody tr th {\n",
              "        vertical-align: top;\n",
              "    }\n",
              "\n",
              "    .dataframe thead th {\n",
              "        text-align: right;\n",
              "    }\n",
              "</style>\n",
              "<table border=\"1\" class=\"dataframe\">\n",
              "  <thead>\n",
              "    <tr style=\"text-align: right;\">\n",
              "      <th></th>\n",
              "      <th>movieId</th>\n",
              "      <th>title</th>\n",
              "      <th>genres</th>\n",
              "      <th>genres1</th>\n",
              "      <th>genres2</th>\n",
              "      <th>genres3</th>\n",
              "      <th>genres4</th>\n",
              "      <th>genres5</th>\n",
              "    </tr>\n",
              "  </thead>\n",
              "  <tbody>\n",
              "    <tr>\n",
              "      <th>0</th>\n",
              "      <td>1</td>\n",
              "      <td>Toy Story (1995)</td>\n",
              "      <td>Adventure|Animation|Children|Comedy|Fantasy</td>\n",
              "      <td>Adventure</td>\n",
              "      <td>Animation</td>\n",
              "      <td>Children</td>\n",
              "      <td>Comedy</td>\n",
              "      <td>Fantasy</td>\n",
              "    </tr>\n",
              "    <tr>\n",
              "      <th>1</th>\n",
              "      <td>2</td>\n",
              "      <td>Jumanji (1995)</td>\n",
              "      <td>Adventure|Children|Fantasy</td>\n",
              "      <td>Adventure</td>\n",
              "      <td>Children</td>\n",
              "      <td>Fantasy</td>\n",
              "      <td>None</td>\n",
              "      <td>None</td>\n",
              "    </tr>\n",
              "    <tr>\n",
              "      <th>2</th>\n",
              "      <td>3</td>\n",
              "      <td>Grumpier Old Men (1995)</td>\n",
              "      <td>Comedy|Romance</td>\n",
              "      <td>Comedy</td>\n",
              "      <td>Romance</td>\n",
              "      <td>None</td>\n",
              "      <td>None</td>\n",
              "      <td>None</td>\n",
              "    </tr>\n",
              "    <tr>\n",
              "      <th>3</th>\n",
              "      <td>4</td>\n",
              "      <td>Waiting to Exhale (1995)</td>\n",
              "      <td>Comedy|Drama|Romance</td>\n",
              "      <td>Comedy</td>\n",
              "      <td>Drama</td>\n",
              "      <td>Romance</td>\n",
              "      <td>None</td>\n",
              "      <td>None</td>\n",
              "    </tr>\n",
              "    <tr>\n",
              "      <th>4</th>\n",
              "      <td>5</td>\n",
              "      <td>Father of the Bride Part II (1995)</td>\n",
              "      <td>Comedy</td>\n",
              "      <td>Comedy</td>\n",
              "      <td>None</td>\n",
              "      <td>None</td>\n",
              "      <td>None</td>\n",
              "      <td>None</td>\n",
              "    </tr>\n",
              "    <tr>\n",
              "      <th>...</th>\n",
              "      <td>...</td>\n",
              "      <td>...</td>\n",
              "      <td>...</td>\n",
              "      <td>...</td>\n",
              "      <td>...</td>\n",
              "      <td>...</td>\n",
              "      <td>...</td>\n",
              "      <td>...</td>\n",
              "    </tr>\n",
              "    <tr>\n",
              "      <th>195</th>\n",
              "      <td>229</td>\n",
              "      <td>Death and the Maiden (1994)</td>\n",
              "      <td>Drama|Thriller</td>\n",
              "      <td>Drama</td>\n",
              "      <td>Thriller</td>\n",
              "      <td>None</td>\n",
              "      <td>None</td>\n",
              "      <td>None</td>\n",
              "    </tr>\n",
              "    <tr>\n",
              "      <th>196</th>\n",
              "      <td>230</td>\n",
              "      <td>Dolores Claiborne (1995)</td>\n",
              "      <td>Drama|Thriller</td>\n",
              "      <td>Drama</td>\n",
              "      <td>Thriller</td>\n",
              "      <td>None</td>\n",
              "      <td>None</td>\n",
              "      <td>None</td>\n",
              "    </tr>\n",
              "    <tr>\n",
              "      <th>197</th>\n",
              "      <td>231</td>\n",
              "      <td>Dumb &amp; Dumber (Dumb and Dumber) (1994)</td>\n",
              "      <td>Adventure|Comedy</td>\n",
              "      <td>Adventure</td>\n",
              "      <td>Comedy</td>\n",
              "      <td>None</td>\n",
              "      <td>None</td>\n",
              "      <td>None</td>\n",
              "    </tr>\n",
              "    <tr>\n",
              "      <th>198</th>\n",
              "      <td>232</td>\n",
              "      <td>Eat Drink Man Woman (Yin shi nan nu) (1994)</td>\n",
              "      <td>Comedy|Drama|Romance</td>\n",
              "      <td>Comedy</td>\n",
              "      <td>Drama</td>\n",
              "      <td>Romance</td>\n",
              "      <td>None</td>\n",
              "      <td>None</td>\n",
              "    </tr>\n",
              "    <tr>\n",
              "      <th>199</th>\n",
              "      <td>233</td>\n",
              "      <td>Exotica (1994)</td>\n",
              "      <td>Drama</td>\n",
              "      <td>Drama</td>\n",
              "      <td>None</td>\n",
              "      <td>None</td>\n",
              "      <td>None</td>\n",
              "      <td>None</td>\n",
              "    </tr>\n",
              "  </tbody>\n",
              "</table>\n",
              "<p>200 rows × 8 columns</p>\n",
              "</div>"
            ],
            "text/plain": [
              "     movieId                                        title  ... genres4  genres5\n",
              "0          1                             Toy Story (1995)  ...  Comedy  Fantasy\n",
              "1          2                               Jumanji (1995)  ...    None     None\n",
              "2          3                      Grumpier Old Men (1995)  ...    None     None\n",
              "3          4                     Waiting to Exhale (1995)  ...    None     None\n",
              "4          5           Father of the Bride Part II (1995)  ...    None     None\n",
              "..       ...                                          ...  ...     ...      ...\n",
              "195      229                  Death and the Maiden (1994)  ...    None     None\n",
              "196      230                     Dolores Claiborne (1995)  ...    None     None\n",
              "197      231       Dumb & Dumber (Dumb and Dumber) (1994)  ...    None     None\n",
              "198      232  Eat Drink Man Woman (Yin shi nan nu) (1994)  ...    None     None\n",
              "199      233                               Exotica (1994)  ...    None     None\n",
              "\n",
              "[200 rows x 8 columns]"
            ]
          },
          "metadata": {
            "tags": []
          },
          "execution_count": 18
        }
      ]
    },
    {
      "cell_type": "code",
      "metadata": {
        "id": "OpJYDENYh42E",
        "colab_type": "code",
        "colab": {
          "base_uri": "https://localhost:8080/",
          "height": 1000
        },
        "outputId": "76b9889e-5e12-4bd1-d188-0362b2feb005"
      },
      "source": [
        "df1 = pd.concat([split_genres.groupby('genres1').sum(), \n",
        "                 split_genres.groupby('genres2').sum(), \n",
        "                 split_genres.groupby('genres3').sum(),\n",
        "                 split_genres.groupby('genres4').sum(),\n",
        "                 split_genres.groupby('genres5').sum(),])\n",
        "\n",
        "df1.head(50)"
      ],
      "execution_count": null,
      "outputs": [
        {
          "output_type": "execute_result",
          "data": {
            "text/html": [
              "<div>\n",
              "<style scoped>\n",
              "    .dataframe tbody tr th:only-of-type {\n",
              "        vertical-align: middle;\n",
              "    }\n",
              "\n",
              "    .dataframe tbody tr th {\n",
              "        vertical-align: top;\n",
              "    }\n",
              "\n",
              "    .dataframe thead th {\n",
              "        text-align: right;\n",
              "    }\n",
              "</style>\n",
              "<table border=\"1\" class=\"dataframe\">\n",
              "  <thead>\n",
              "    <tr style=\"text-align: right;\">\n",
              "      <th></th>\n",
              "      <th>movieId</th>\n",
              "    </tr>\n",
              "  </thead>\n",
              "  <tbody>\n",
              "    <tr>\n",
              "      <th>(no genres listed)</th>\n",
              "      <td>5336305</td>\n",
              "    </tr>\n",
              "    <tr>\n",
              "      <th>Action</th>\n",
              "      <td>88881432</td>\n",
              "    </tr>\n",
              "    <tr>\n",
              "      <th>Adventure</th>\n",
              "      <td>28641526</td>\n",
              "    </tr>\n",
              "    <tr>\n",
              "      <th>Animation</th>\n",
              "      <td>24086663</td>\n",
              "    </tr>\n",
              "    <tr>\n",
              "      <th>Children</th>\n",
              "      <td>6082793</td>\n",
              "    </tr>\n",
              "    <tr>\n",
              "      <th>Comedy</th>\n",
              "      <td>113772010</td>\n",
              "    </tr>\n",
              "    <tr>\n",
              "      <th>Crime</th>\n",
              "      <td>19612334</td>\n",
              "    </tr>\n",
              "    <tr>\n",
              "      <th>Documentary</th>\n",
              "      <td>22496025</td>\n",
              "    </tr>\n",
              "    <tr>\n",
              "      <th>Drama</th>\n",
              "      <td>70764397</td>\n",
              "    </tr>\n",
              "    <tr>\n",
              "      <th>Fantasy</th>\n",
              "      <td>2006069</td>\n",
              "    </tr>\n",
              "    <tr>\n",
              "      <th>Film-Noir</th>\n",
              "      <td>84254</td>\n",
              "    </tr>\n",
              "    <tr>\n",
              "      <th>Horror</th>\n",
              "      <td>17717239</td>\n",
              "    </tr>\n",
              "    <tr>\n",
              "      <th>Musical</th>\n",
              "      <td>258385</td>\n",
              "    </tr>\n",
              "    <tr>\n",
              "      <th>Mystery</th>\n",
              "      <td>1610128</td>\n",
              "    </tr>\n",
              "    <tr>\n",
              "      <th>Romance</th>\n",
              "      <td>923812</td>\n",
              "    </tr>\n",
              "    <tr>\n",
              "      <th>Sci-Fi</th>\n",
              "      <td>4224062</td>\n",
              "    </tr>\n",
              "    <tr>\n",
              "      <th>Thriller</th>\n",
              "      <td>4001826</td>\n",
              "    </tr>\n",
              "    <tr>\n",
              "      <th>War</th>\n",
              "      <td>72162</td>\n",
              "    </tr>\n",
              "    <tr>\n",
              "      <th>Western</th>\n",
              "      <td>544423</td>\n",
              "    </tr>\n",
              "    <tr>\n",
              "      <th>Adventure</th>\n",
              "      <td>30826765</td>\n",
              "    </tr>\n",
              "    <tr>\n",
              "      <th>Animation</th>\n",
              "      <td>16015062</td>\n",
              "    </tr>\n",
              "    <tr>\n",
              "      <th>Children</th>\n",
              "      <td>13046692</td>\n",
              "    </tr>\n",
              "    <tr>\n",
              "      <th>Comedy</th>\n",
              "      <td>28349864</td>\n",
              "    </tr>\n",
              "    <tr>\n",
              "      <th>Crime</th>\n",
              "      <td>20795409</td>\n",
              "    </tr>\n",
              "    <tr>\n",
              "      <th>Documentary</th>\n",
              "      <td>2583643</td>\n",
              "    </tr>\n",
              "    <tr>\n",
              "      <th>Drama</th>\n",
              "      <td>64497709</td>\n",
              "    </tr>\n",
              "    <tr>\n",
              "      <th>Fantasy</th>\n",
              "      <td>12217330</td>\n",
              "    </tr>\n",
              "    <tr>\n",
              "      <th>Film-Noir</th>\n",
              "      <td>376660</td>\n",
              "    </tr>\n",
              "    <tr>\n",
              "      <th>Horror</th>\n",
              "      <td>16813140</td>\n",
              "    </tr>\n",
              "    <tr>\n",
              "      <th>IMAX</th>\n",
              "      <td>419054</td>\n",
              "    </tr>\n",
              "    <tr>\n",
              "      <th>Musical</th>\n",
              "      <td>3344344</td>\n",
              "    </tr>\n",
              "    <tr>\n",
              "      <th>Mystery</th>\n",
              "      <td>9461900</td>\n",
              "    </tr>\n",
              "    <tr>\n",
              "      <th>Romance</th>\n",
              "      <td>23618685</td>\n",
              "    </tr>\n",
              "    <tr>\n",
              "      <th>Sci-Fi</th>\n",
              "      <td>12109587</td>\n",
              "    </tr>\n",
              "    <tr>\n",
              "      <th>Thriller</th>\n",
              "      <td>22588300</td>\n",
              "    </tr>\n",
              "    <tr>\n",
              "      <th>War</th>\n",
              "      <td>4150283</td>\n",
              "    </tr>\n",
              "    <tr>\n",
              "      <th>Western</th>\n",
              "      <td>1521989</td>\n",
              "    </tr>\n",
              "    <tr>\n",
              "      <th>Animation</th>\n",
              "      <td>6067379</td>\n",
              "    </tr>\n",
              "    <tr>\n",
              "      <th>Children</th>\n",
              "      <td>8764054</td>\n",
              "    </tr>\n",
              "    <tr>\n",
              "      <th>Comedy</th>\n",
              "      <td>14283563</td>\n",
              "    </tr>\n",
              "    <tr>\n",
              "      <th>Crime</th>\n",
              "      <td>5612297</td>\n",
              "    </tr>\n",
              "    <tr>\n",
              "      <th>Documentary</th>\n",
              "      <td>119255</td>\n",
              "    </tr>\n",
              "    <tr>\n",
              "      <th>Drama</th>\n",
              "      <td>19076281</td>\n",
              "    </tr>\n",
              "    <tr>\n",
              "      <th>Fantasy</th>\n",
              "      <td>16436806</td>\n",
              "    </tr>\n",
              "    <tr>\n",
              "      <th>Film-Noir</th>\n",
              "      <td>688964</td>\n",
              "    </tr>\n",
              "    <tr>\n",
              "      <th>Horror</th>\n",
              "      <td>5581457</td>\n",
              "    </tr>\n",
              "    <tr>\n",
              "      <th>IMAX</th>\n",
              "      <td>1741617</td>\n",
              "    </tr>\n",
              "    <tr>\n",
              "      <th>Musical</th>\n",
              "      <td>2290989</td>\n",
              "    </tr>\n",
              "    <tr>\n",
              "      <th>Mystery</th>\n",
              "      <td>8332337</td>\n",
              "    </tr>\n",
              "    <tr>\n",
              "      <th>Romance</th>\n",
              "      <td>18520669</td>\n",
              "    </tr>\n",
              "  </tbody>\n",
              "</table>\n",
              "</div>"
            ],
            "text/plain": [
              "                      movieId\n",
              "(no genres listed)    5336305\n",
              "Action               88881432\n",
              "Adventure            28641526\n",
              "Animation            24086663\n",
              "Children              6082793\n",
              "Comedy              113772010\n",
              "Crime                19612334\n",
              "Documentary          22496025\n",
              "Drama                70764397\n",
              "Fantasy               2006069\n",
              "Film-Noir               84254\n",
              "Horror               17717239\n",
              "Musical                258385\n",
              "Mystery               1610128\n",
              "Romance                923812\n",
              "Sci-Fi                4224062\n",
              "Thriller              4001826\n",
              "War                     72162\n",
              "Western                544423\n",
              "Adventure            30826765\n",
              "Animation            16015062\n",
              "Children             13046692\n",
              "Comedy               28349864\n",
              "Crime                20795409\n",
              "Documentary           2583643\n",
              "Drama                64497709\n",
              "Fantasy              12217330\n",
              "Film-Noir              376660\n",
              "Horror               16813140\n",
              "IMAX                   419054\n",
              "Musical               3344344\n",
              "Mystery               9461900\n",
              "Romance              23618685\n",
              "Sci-Fi               12109587\n",
              "Thriller             22588300\n",
              "War                   4150283\n",
              "Western               1521989\n",
              "Animation             6067379\n",
              "Children              8764054\n",
              "Comedy               14283563\n",
              "Crime                 5612297\n",
              "Documentary            119255\n",
              "Drama                19076281\n",
              "Fantasy              16436806\n",
              "Film-Noir              688964\n",
              "Horror                5581457\n",
              "IMAX                  1741617\n",
              "Musical               2290989\n",
              "Mystery               8332337\n",
              "Romance              18520669"
            ]
          },
          "metadata": {
            "tags": []
          },
          "execution_count": 19
        }
      ]
    },
    {
      "cell_type": "code",
      "metadata": {
        "id": "1BDgKUimwaae",
        "colab_type": "code",
        "colab": {}
      },
      "source": [
        "####################################################################################################################################################"
      ],
      "execution_count": null,
      "outputs": []
    },
    {
      "cell_type": "markdown",
      "metadata": {
        "id": "NF7-FjpOwcu4",
        "colab_type": "text"
      },
      "source": [
        "**Aula 2**"
      ]
    },
    {
      "cell_type": "code",
      "metadata": {
        "id": "dMlhMdUDwfxe",
        "colab_type": "code",
        "colab": {
          "base_uri": "https://localhost:8080/",
          "height": 374
        },
        "outputId": "0a07ce38-2739-4590-f1bd-22739fe2d330"
      },
      "source": [
        "#Uma outra forma de realizar o desafio número 7\n",
        "df_movies = movies[\"genres\"].str.get_dummies(\"|\").sum()\n",
        "print(df_movies.head(20))\n",
        "#foi criado uma string, separando os generos dos filmes pelo comando (\"|\") e criado variáveis dummies com o get_dummies, deixando de forma numérica"
      ],
      "execution_count": null,
      "outputs": [
        {
          "output_type": "stream",
          "text": [
            "(no genres listed)      34\n",
            "Action                1828\n",
            "Adventure             1263\n",
            "Animation              611\n",
            "Children               664\n",
            "Comedy                3756\n",
            "Crime                 1199\n",
            "Documentary            440\n",
            "Drama                 4361\n",
            "Fantasy                779\n",
            "Film-Noir               87\n",
            "Horror                 978\n",
            "IMAX                   158\n",
            "Musical                334\n",
            "Mystery                573\n",
            "Romance               1596\n",
            "Sci-Fi                 980\n",
            "Thriller              1894\n",
            "War                    382\n",
            "Western                167\n",
            "dtype: int64\n"
          ],
          "name": "stdout"
        }
      ]
    },
    {
      "cell_type": "code",
      "metadata": {
        "id": "bgT_1hD0xKu0",
        "colab_type": "code",
        "colab": {
          "base_uri": "https://localhost:8080/",
          "height": 187
        },
        "outputId": "9b365da7-f409-4d1c-c958-e4f8669ebec0"
      },
      "source": [
        "df_movies = movies[\"genres\"].str.get_dummies(\"|\").sum(axis = 1).value_counts()\n",
        "print(df_movies.head(20))\n",
        "#atribuindo o AXIS = 1 contamos quantos generos aparecem. Isso muda o eixo da soma. \n",
        "#O maior número de generos que aparecem são 2, ou seja, a maioria dos filmes possuem 2 generos contabilizados"
      ],
      "execution_count": null,
      "outputs": [
        {
          "output_type": "stream",
          "text": [
            "2     3218\n",
            "1     2851\n",
            "3     2338\n",
            "4      987\n",
            "5      271\n",
            "6       63\n",
            "7       12\n",
            "10       1\n",
            "8        1\n",
            "dtype: int64\n"
          ],
          "name": "stdout"
        }
      ]
    },
    {
      "cell_type": "code",
      "metadata": {
        "id": "D6JhDxkIyIgO",
        "colab_type": "code",
        "colab": {
          "base_uri": "https://localhost:8080/",
          "height": 374
        },
        "outputId": "11ad4193-0bab-4a07-8ebb-3f8072bde051"
      },
      "source": [
        "df_movies = movies[\"genres\"].str.get_dummies(\"|\").sum().sort_values(ascending = False)\n",
        "print(df_movies.head(20))\n",
        "#O comando sort_values ordena os valores de forma decrescente (por causa do comando FALSE)"
      ],
      "execution_count": null,
      "outputs": [
        {
          "output_type": "stream",
          "text": [
            "Drama                 4361\n",
            "Comedy                3756\n",
            "Thriller              1894\n",
            "Action                1828\n",
            "Romance               1596\n",
            "Adventure             1263\n",
            "Crime                 1199\n",
            "Sci-Fi                 980\n",
            "Horror                 978\n",
            "Fantasy                779\n",
            "Children               664\n",
            "Animation              611\n",
            "Mystery                573\n",
            "Documentary            440\n",
            "War                    382\n",
            "Musical                334\n",
            "Western                167\n",
            "IMAX                   158\n",
            "Film-Noir               87\n",
            "(no genres listed)      34\n",
            "dtype: int64\n"
          ],
          "name": "stdout"
        }
      ]
    },
    {
      "cell_type": "code",
      "metadata": {
        "id": "bBVoBvlWzRBX",
        "colab_type": "code",
        "colab": {
          "base_uri": "https://localhost:8080/",
          "height": 374
        },
        "outputId": "27cde1e9-3da8-413f-b877-e1081f308a3e"
      },
      "source": [
        "df_movies = movies[\"genres\"].str.get_dummies(\"|\").sum().sort_index(ascending = False)\n",
        "print(df_movies.head(20))\n",
        "#O comando sort_index ordena os index de forma decrescente (por causa do comando FALSE)"
      ],
      "execution_count": null,
      "outputs": [
        {
          "output_type": "stream",
          "text": [
            "Western                167\n",
            "War                    382\n",
            "Thriller              1894\n",
            "Sci-Fi                 980\n",
            "Romance               1596\n",
            "Mystery                573\n",
            "Musical                334\n",
            "IMAX                   158\n",
            "Horror                 978\n",
            "Film-Noir               87\n",
            "Fantasy                779\n",
            "Drama                 4361\n",
            "Documentary            440\n",
            "Crime                 1199\n",
            "Comedy                3756\n",
            "Children               664\n",
            "Animation              611\n",
            "Adventure             1263\n",
            "Action                1828\n",
            "(no genres listed)      34\n",
            "dtype: int64\n"
          ],
          "name": "stdout"
        }
      ]
    },
    {
      "cell_type": "code",
      "metadata": {
        "id": "7EAMkVsFz3a2",
        "colab_type": "code",
        "colab": {
          "base_uri": "https://localhost:8080/",
          "height": 577
        },
        "outputId": "16014b8c-7a86-4e08-cf50-c5d99a469c8e"
      },
      "source": [
        "df_movies = movies[\"genres\"].str.get_dummies(\"|\").sum().sort_values(ascending = False).plot(\n",
        "    kind = \"bar\",\n",
        "    title = \"Categoria de filmes\",\n",
        "    figsize = (8,8)\n",
        ")\n",
        "plt.show()\n",
        "#"
      ],
      "execution_count": null,
      "outputs": [
        {
          "output_type": "display_data",
          "data": {
            "image/png": "[encoded data removed]",
            "text/plain": [
              "<Figure size 576x576 with 1 Axes>"
            ]
          },
          "metadata": {
            "tags": [],
            "needs_background": "light"
          }
        }
      ]
    },
    {
      "cell_type": "markdown",
      "metadata": {
        "id": "q8U0VqcC-PwY",
        "colab_type": "text"
      },
      "source": [
        "**Desafio 1: Rotacionar os nomes dos generos**"
      ]
    },
    {
      "cell_type": "code",
      "metadata": {
        "id": "32VwY8r84y5i",
        "colab_type": "code",
        "colab": {
          "base_uri": "https://localhost:8080/",
          "height": 596
        },
        "outputId": "e7ae2632-2207-4020-e981-cf778546c718"
      },
      "source": [
        "import seaborn as sns\n",
        "\n",
        "df_movies_plot = movies[\"genres\"].str.get_dummies(\"|\").sum().sort_values(ascending = False)\n",
        "\n",
        "sns.set_style(\"whitegrid\")\n",
        "plt.figure(figsize = (16,8))\n",
        "plt.xticks(rotation=45)\n",
        "sns.barplot(x = df_movies_plot.index,\n",
        "            y = df_movies_plot.values,\n",
        "            palette = sns.color_palette(\"BuGn_r\", n_colors = len(df_movies_plot)+10)  \n",
        ")\n",
        "plt.show()\n",
        "\n",
        "#Foi utilizado o pacote seaborn (que tem base no matplotlib.pyplot)"
      ],
      "execution_count": null,
      "outputs": [
        {
          "output_type": "stream",
          "text": [
            "/usr/local/lib/python3.6/dist-packages/statsmodels/tools/_testing.py:19: FutureWarning: pandas.util.testing is deprecated. Use the functions in the public API at pandas.testing instead.\n",
            "  import pandas.util.testing as tm\n"
          ],
          "name": "stderr"
        },
        {
          "output_type": "display_data",
          "data": {
            "image/png": "[encoded data removed]",
            "text/plain": [
              "<Figure size 1152x576 with 1 Axes>"
            ]
          },
          "metadata": {
            "tags": []
          }
        }
      ]
    },
    {
      "cell_type": "code",
      "metadata": {
        "id": "I2Urub0V49mj",
        "colab_type": "code",
        "colab": {}
      },
      "source": [
        "def plot_movie(n):\n",
        "  movies_rating = ratings.query(\"movieId == {}\".format(n))[\"rating\"]\n",
        "  movies_rating.plot(kind = \"hist\")\n",
        "  plt.show()\n",
        "  movies_rating.plot.box()\n",
        "  plt.show\n",
        "  return movies_rating.describe()"
      ],
      "execution_count": null,
      "outputs": []
    },
    {
      "cell_type": "code",
      "metadata": {
        "id": "YrGnCxNEeeTP",
        "colab_type": "code",
        "colab": {
          "base_uri": "https://localhost:8080/",
          "height": 666
        },
        "outputId": "8bcf95fc-6d8f-48cd-ef9d-0bed9b58f706"
      },
      "source": [
        "plot_movie(919)"
      ],
      "execution_count": null,
      "outputs": [
        {
          "output_type": "display_data",
          "data": {
            "image/png": "[encoded data removed]",
            "text/plain": [
              "<Figure size 432x288 with 1 Axes>"
            ]
          },
          "metadata": {
            "tags": []
          }
        },
        {
          "output_type": "execute_result",
          "data": {
            "text/plain": [
              "count    92.000000\n",
              "mean      3.880435\n",
              "std       1.025418\n",
              "min       1.000000\n",
              "25%       3.000000\n",
              "50%       4.000000\n",
              "75%       5.000000\n",
              "max       5.000000\n",
              "Name: rating, dtype: float64"
            ]
          },
          "metadata": {
            "tags": []
          },
          "execution_count": 28
        },
        {
          "output_type": "display_data",
          "data": {
            "image/png": "[encoded data removed]",
            "text/plain": [
              "<Figure size 432x288 with 1 Axes>"
            ]
          },
          "metadata": {
            "tags": []
          }
        }
      ]
    },
    {
      "cell_type": "code",
      "metadata": {
        "id": "8_9fkKOQfnLM",
        "colab_type": "code",
        "colab": {
          "base_uri": "https://localhost:8080/",
          "height": 296
        },
        "outputId": "a1ba950f-a7ed-4ba5-ba3d-dcdd7d4d8816"
      },
      "source": [
        "sns.boxplot(data = ratings.query(\"movieId in [1, 2, 919, 46578]\"), x = \"movieId\", y = \"rating\")"
      ],
      "execution_count": null,
      "outputs": [
        {
          "output_type": "execute_result",
          "data": {
            "text/plain": [
              "<matplotlib.axes._subplots.AxesSubplot at 0x7f006f455f60>"
            ]
          },
          "metadata": {
            "tags": []
          },
          "execution_count": 29
        },
        {
          "output_type": "display_data",
          "data": {
            "image/png": "[encoded data removed]",
            "text/plain": [
              "<Figure size 432x288 with 1 Axes>"
            ]
          },
          "metadata": {
            "tags": []
          }
        }
      ]
    },
    {
      "cell_type": "markdown",
      "metadata": {
        "id": "DfYrrsCTkOUz",
        "colab_type": "text"
      },
      "source": [
        "**Desafio 2: Encontar vários filmes com médias próximas e distribuições diferentes, use a função plot_filmes(n) para plotar.**"
      ]
    },
    {
      "cell_type": "code",
      "metadata": {
        "id": "MtAONOs4fnI2",
        "colab_type": "code",
        "colab": {
          "base_uri": "https://localhost:8080/",
          "height": 419
        },
        "outputId": "6855a115-4c2b-4280-b409-e0260d0d6d37"
      },
      "source": [
        "movies_avg2[1000:1100]"
      ],
      "execution_count": null,
      "outputs": [
        {
          "output_type": "execute_result",
          "data": {
            "text/html": [
              "<div>\n",
              "<style scoped>\n",
              "    .dataframe tbody tr th:only-of-type {\n",
              "        vertical-align: middle;\n",
              "    }\n",
              "\n",
              "    .dataframe tbody tr th {\n",
              "        vertical-align: top;\n",
              "    }\n",
              "\n",
              "    .dataframe thead th {\n",
              "        text-align: right;\n",
              "    }\n",
              "</style>\n",
              "<table border=\"1\" class=\"dataframe\">\n",
              "  <thead>\n",
              "    <tr style=\"text-align: right;\">\n",
              "      <th></th>\n",
              "      <th>movieId</th>\n",
              "      <th>tittle</th>\n",
              "      <th>genres</th>\n",
              "      <th>avgrating</th>\n",
              "    </tr>\n",
              "  </thead>\n",
              "  <tbody>\n",
              "    <tr>\n",
              "      <th>1000</th>\n",
              "      <td>1302</td>\n",
              "      <td>Field of Dreams (1989)</td>\n",
              "      <td>Children|Drama|Fantasy</td>\n",
              "      <td>3.52</td>\n",
              "    </tr>\n",
              "    <tr>\n",
              "      <th>1001</th>\n",
              "      <td>1303</td>\n",
              "      <td>Man Who Would Be King, The (1975)</td>\n",
              "      <td>Adventure|Drama</td>\n",
              "      <td>4.03</td>\n",
              "    </tr>\n",
              "    <tr>\n",
              "      <th>1002</th>\n",
              "      <td>1304</td>\n",
              "      <td>Butch Cassidy and the Sundance Kid (1969)</td>\n",
              "      <td>Action|Western</td>\n",
              "      <td>3.94</td>\n",
              "    </tr>\n",
              "    <tr>\n",
              "      <th>1003</th>\n",
              "      <td>1305</td>\n",
              "      <td>Paris, Texas (1984)</td>\n",
              "      <td>Drama|Romance</td>\n",
              "      <td>3.50</td>\n",
              "    </tr>\n",
              "    <tr>\n",
              "      <th>1004</th>\n",
              "      <td>1306</td>\n",
              "      <td>Until the End of the World (Bis ans Ende der W...</td>\n",
              "      <td>Adventure|Drama|Sci-Fi</td>\n",
              "      <td>2.70</td>\n",
              "    </tr>\n",
              "    <tr>\n",
              "      <th>...</th>\n",
              "      <td>...</td>\n",
              "      <td>...</td>\n",
              "      <td>...</td>\n",
              "      <td>...</td>\n",
              "    </tr>\n",
              "    <tr>\n",
              "      <th>1095</th>\n",
              "      <td>1423</td>\n",
              "      <td>Hearts and Minds (1996)</td>\n",
              "      <td>Drama</td>\n",
              "      <td>4.00</td>\n",
              "    </tr>\n",
              "    <tr>\n",
              "      <th>1096</th>\n",
              "      <td>1425</td>\n",
              "      <td>Fierce Creatures (1997)</td>\n",
              "      <td>Comedy</td>\n",
              "      <td>3.00</td>\n",
              "    </tr>\n",
              "    <tr>\n",
              "      <th>1097</th>\n",
              "      <td>1426</td>\n",
              "      <td>Zeus and Roxanne (1997)</td>\n",
              "      <td>Children</td>\n",
              "      <td>1.00</td>\n",
              "    </tr>\n",
              "    <tr>\n",
              "      <th>1098</th>\n",
              "      <td>1427</td>\n",
              "      <td>Turbulence (1997)</td>\n",
              "      <td>Action|Thriller</td>\n",
              "      <td>1.00</td>\n",
              "    </tr>\n",
              "    <tr>\n",
              "      <th>1099</th>\n",
              "      <td>1428</td>\n",
              "      <td>Angel Baby (1995)</td>\n",
              "      <td>Drama</td>\n",
              "      <td>3.00</td>\n",
              "    </tr>\n",
              "  </tbody>\n",
              "</table>\n",
              "<p>100 rows × 4 columns</p>\n",
              "</div>"
            ],
            "text/plain": [
              "      movieId  ... avgrating\n",
              "1000     1302  ...      3.52\n",
              "1001     1303  ...      4.03\n",
              "1002     1304  ...      3.94\n",
              "1003     1305  ...      3.50\n",
              "1004     1306  ...      2.70\n",
              "...       ...  ...       ...\n",
              "1095     1423  ...      4.00\n",
              "1096     1425  ...      3.00\n",
              "1097     1426  ...      1.00\n",
              "1098     1427  ...      1.00\n",
              "1099     1428  ...      3.00\n",
              "\n",
              "[100 rows x 4 columns]"
            ]
          },
          "metadata": {
            "tags": []
          },
          "execution_count": 30
        }
      ]
    },
    {
      "cell_type": "code",
      "metadata": {
        "id": "O-5UxwJ23oJU",
        "colab_type": "code",
        "colab": {
          "base_uri": "https://localhost:8080/",
          "height": 666
        },
        "outputId": "17e1a49e-dc0d-4d33-a648-0c6c536fd500"
      },
      "source": [
        "plot_movie(581) #Celluloid Closet, The (1995)"
      ],
      "execution_count": null,
      "outputs": [
        {
          "output_type": "display_data",
          "data": {
            "image/png": "[encoded data removed]",
            "text/plain": [
              "<Figure size 432x288 with 1 Axes>"
            ]
          },
          "metadata": {
            "tags": []
          }
        },
        {
          "output_type": "execute_result",
          "data": {
            "text/plain": [
              "count    4.000000\n",
              "mean     4.000000\n",
              "std      0.816497\n",
              "min      3.000000\n",
              "25%      3.750000\n",
              "50%      4.000000\n",
              "75%      4.250000\n",
              "max      5.000000\n",
              "Name: rating, dtype: float64"
            ]
          },
          "metadata": {
            "tags": []
          },
          "execution_count": 39
        },
        {
          "output_type": "display_data",
          "data": {
            "image/png": "[encoded data removed]",
            "text/plain": [
              "<Figure size 432x288 with 1 Axes>"
            ]
          },
          "metadata": {
            "tags": []
          }
        }
      ]
    },
    {
      "cell_type": "code",
      "metadata": {
        "id": "XdsN83ER3oPk",
        "colab_type": "code",
        "colab": {
          "base_uri": "https://localhost:8080/",
          "height": 666
        },
        "outputId": "b3bc6dbd-d322-4753-eba3-838a1c96c6dc"
      },
      "source": [
        "plot_movie(1303) #Man Who Would Be King, The (1975)\t"
      ],
      "execution_count": null,
      "outputs": [
        {
          "output_type": "display_data",
          "data": {
            "image/png": "[encoded data removed]",
            "text/plain": [
              "<Figure size 432x288 with 1 Axes>"
            ]
          },
          "metadata": {
            "tags": []
          }
        },
        {
          "output_type": "execute_result",
          "data": {
            "text/plain": [
              "count    17.000000\n",
              "mean      4.029412\n",
              "std       0.672463\n",
              "min       3.000000\n",
              "25%       3.500000\n",
              "50%       4.000000\n",
              "75%       4.500000\n",
              "max       5.000000\n",
              "Name: rating, dtype: float64"
            ]
          },
          "metadata": {
            "tags": []
          },
          "execution_count": 32
        },
        {
          "output_type": "display_data",
          "data": {
            "image/png": "[encoded data removed]",
            "text/plain": [
              "<Figure size 432x288 with 1 Axes>"
            ]
          },
          "metadata": {
            "tags": []
          }
        }
      ]
    },
    {
      "cell_type": "code",
      "metadata": {
        "id": "3PIX1VCS3Yx7",
        "colab_type": "code",
        "colab": {
          "base_uri": "https://localhost:8080/",
          "height": 666
        },
        "outputId": "6cce2cf7-a4b1-4f85-f8f4-c1d01230b132"
      },
      "source": [
        "plot_movie(608) #Fargo (1996)"
      ],
      "execution_count": null,
      "outputs": [
        {
          "output_type": "display_data",
          "data": {
            "image/png": "[encoded data removed]",
            "text/plain": [
              "<Figure size 432x288 with 1 Axes>"
            ]
          },
          "metadata": {
            "tags": []
          }
        },
        {
          "output_type": "execute_result",
          "data": {
            "text/plain": [
              "count    181.000000\n",
              "mean       4.116022\n",
              "std        0.828531\n",
              "min        2.000000\n",
              "25%        4.000000\n",
              "50%        4.000000\n",
              "75%        5.000000\n",
              "max        5.000000\n",
              "Name: rating, dtype: float64"
            ]
          },
          "metadata": {
            "tags": []
          },
          "execution_count": 33
        },
        {
          "output_type": "display_data",
          "data": {
            "image/png": "[encoded data removed]",
            "text/plain": [
              "<Figure size 432x288 with 1 Axes>"
            ]
          },
          "metadata": {
            "tags": []
          }
        }
      ]
    },
    {
      "cell_type": "markdown",
      "metadata": {
        "id": "X4dShvWdfAWF",
        "colab_type": "text"
      },
      "source": [
        "**Desafio 3: Criar o box plot dos 10 filmes com mais votos (não com mais média, e sim com mais votos)**\n",
        "\n",
        "**Desafio 4: O boxplot deve estar num tamanho adequado e com os nomes dos filmes no eixo X**"
      ]
    },
    {
      "cell_type": "code",
      "metadata": {
        "id": "s1Sb8yBb6y8h",
        "colab_type": "code",
        "colab": {
          "base_uri": "https://localhost:8080/",
          "height": 684
        },
        "outputId": "af6cc337-5aec-441c-df14-0927e4999783"
      },
      "source": [
        "top_10_movies = movies_count.head(10)\n",
        "top_10_rating_tittle = top_10_movies['tittle'].to_list()\n",
        "top_10_rating_id = top_10_movies['movieId'].to_list()\n",
        "\n",
        "plt.figure(figsize=(18, 8))\n",
        "ax = sns.boxplot(x='movieId', y='rating', data=ratings.query(f\"movieId in {top_10_rating_id}\"))\n",
        "ax.set_xticklabels(top_10_rating_tittle, fontsize=12)\n",
        "ax.set_xlabel(\"Movies\", fontsize=16)\n",
        "ax.set_ylabel(\"Ratings\", fontsize=16)\n",
        "plt.xticks(rotation=45)\n",
        "\n",
        "plt.show()"
      ],
      "execution_count": null,
      "outputs": [
        {
          "output_type": "display_data",
          "data": {
            "image/png": "[encoded data removed]",
            "text/plain": [
              "<Figure size 1296x576 with 1 Axes>"
            ]
          },
          "metadata": {
            "tags": []
          }
        }
      ]
    },
    {
      "cell_type": "markdown",
      "metadata": {
        "id": "iQBuE_cFhk-C",
        "colab_type": "text"
      },
      "source": [
        "**Desafio 5: Calcular moda, média e mediana dos filmes. Explore filmes com notas próximas de 0.5 , 3 , 5.**"
      ]
    },
    {
      "cell_type": "code",
      "metadata": {
        "id": "Y8yngiT8h1cN",
        "colab_type": "code",
        "colab": {}
      },
      "source": [
        "def explora_filme(filme_id):\n",
        "    filme = movies.query(f'movieId == {filme_id}')\n",
        "    notas = ratings.query(f'movieId == {filme_id}')['rating']\n",
        "\n",
        "    print(f'Filme: {filme.iloc[0, 1]}')\n",
        "    print()\n",
        "    \n",
        "    print(f'Moda: {notas.mode().values}')    \n",
        "    print(f'Média: {notas.mean()}')\n",
        "    print(f'Mediana: {notas.median()}')\n",
        "    print('------------')"
      ],
      "execution_count": null,
      "outputs": []
    },
    {
      "cell_type": "code",
      "metadata": {
        "id": "hKND0pOZvwK6",
        "colab_type": "code",
        "colab": {
          "base_uri": "https://localhost:8080/",
          "height": 323
        },
        "outputId": "6bcd0e04-ad6e-457f-ae7a-2bb6c987f58e"
      },
      "source": [
        "explora_filme(8387)\n",
        "explora_filme(89386)\n",
        "explora_filme(3774) "
      ],
      "execution_count": null,
      "outputs": [
        {
          "output_type": "stream",
          "text": [
            "Filme: Police Academy: Mission to Moscow (1994)\n",
            "\n",
            "Moda: [0.5]\n",
            "Média: 0.8\n",
            "Mediana: 0.5\n",
            "------------\n",
            "Filme: Pearl Jam Twenty (2011)\n",
            "\n",
            "Moda: [0.5]\n",
            "Média: 0.5\n",
            "Mediana: 0.5\n",
            "------------\n",
            "Filme: House Party 2 (1991)\n",
            "\n",
            "Moda: [0.5 1. ]\n",
            "Média: 0.75\n",
            "Mediana: 0.75\n",
            "------------\n"
          ],
          "name": "stdout"
        }
      ]
    },
    {
      "cell_type": "markdown",
      "metadata": {
        "id": "VwamE_2gh1pu",
        "colab_type": "text"
      },
      "source": [
        "Desafio 6: plotar o boxplot e histograma um ao lado do outro (na mesma figura ou distintas)"
      ]
    },
    {
      "cell_type": "code",
      "metadata": {
        "id": "6Jtb8-1ah_Pj",
        "colab_type": "code",
        "colab": {
          "base_uri": "https://localhost:8080/",
          "height": 374
        },
        "outputId": "e07893f9-7a7d-48f8-a04e-b71c4f23ba92"
      },
      "source": [
        "pulp_fiction = ratings.query('movieId == 296')['rating']\n",
        "\n",
        "f, axes = plt.subplots(1, 2, figsize=(16, 6))\n",
        "\n",
        "pulp_fiction.plot(kind='hist', ax=axes[0])\n",
        "pulp_fiction.plot(kind='box', ax=axes[1])\n",
        "\n",
        "plt.show()"
      ],
      "execution_count": null,
      "outputs": [
        {
          "output_type": "display_data",
          "data": {
            "image/png": "[encoded data removed]",
            "text/plain": [
              "<Figure size 1152x432 with 2 Axes>"
            ]
          },
          "metadata": {
            "tags": []
          }
        }
      ]
    },
    {
      "cell_type": "markdown",
      "metadata": {
        "id": "iY01IgdMh_tX",
        "colab_type": "text"
      },
      "source": [
        "Desafio 7: Gráfico de notas médoas por ano (time series)"
      ]
    },
    {
      "cell_type": "code",
      "metadata": {
        "id": "1XbZLL0xiGla",
        "colab_type": "code",
        "colab": {
          "base_uri": "https://localhost:8080/",
          "height": 204
        },
        "outputId": "b1010dff-a9d9-491f-ac38-be57820f4835"
      },
      "source": [
        "filmes_com_media_e_ano = movies_avg.copy()\n",
        "filmes_com_media_e_ano['year'] = movies_avg['tittle'].str.extract(\"\\((\\d{4})\\)\")\n",
        "filmes_com_media_e_ano.head()"
      ],
      "execution_count": null,
      "outputs": [
        {
          "output_type": "execute_result",
          "data": {
            "text/html": [
              "<div>\n",
              "<style scoped>\n",
              "    .dataframe tbody tr th:only-of-type {\n",
              "        vertical-align: middle;\n",
              "    }\n",
              "\n",
              "    .dataframe tbody tr th {\n",
              "        vertical-align: top;\n",
              "    }\n",
              "\n",
              "    .dataframe thead th {\n",
              "        text-align: right;\n",
              "    }\n",
              "</style>\n",
              "<table border=\"1\" class=\"dataframe\">\n",
              "  <thead>\n",
              "    <tr style=\"text-align: right;\">\n",
              "      <th></th>\n",
              "      <th>movieId</th>\n",
              "      <th>tittle</th>\n",
              "      <th>genres</th>\n",
              "      <th>avgrating</th>\n",
              "      <th>year</th>\n",
              "    </tr>\n",
              "  </thead>\n",
              "  <tbody>\n",
              "    <tr>\n",
              "      <th>0</th>\n",
              "      <td>1</td>\n",
              "      <td>Toy Story (1995)</td>\n",
              "      <td>Adventure|Animation|Children|Comedy|Fantasy</td>\n",
              "      <td>3.920930</td>\n",
              "      <td>1995</td>\n",
              "    </tr>\n",
              "    <tr>\n",
              "      <th>1</th>\n",
              "      <td>2</td>\n",
              "      <td>Jumanji (1995)</td>\n",
              "      <td>Adventure|Children|Fantasy</td>\n",
              "      <td>3.431818</td>\n",
              "      <td>1995</td>\n",
              "    </tr>\n",
              "    <tr>\n",
              "      <th>2</th>\n",
              "      <td>3</td>\n",
              "      <td>Grumpier Old Men (1995)</td>\n",
              "      <td>Comedy|Romance</td>\n",
              "      <td>3.259615</td>\n",
              "      <td>1995</td>\n",
              "    </tr>\n",
              "    <tr>\n",
              "      <th>3</th>\n",
              "      <td>4</td>\n",
              "      <td>Waiting to Exhale (1995)</td>\n",
              "      <td>Comedy|Drama|Romance</td>\n",
              "      <td>2.357143</td>\n",
              "      <td>1995</td>\n",
              "    </tr>\n",
              "    <tr>\n",
              "      <th>4</th>\n",
              "      <td>5</td>\n",
              "      <td>Father of the Bride Part II (1995)</td>\n",
              "      <td>Comedy</td>\n",
              "      <td>3.071429</td>\n",
              "      <td>1995</td>\n",
              "    </tr>\n",
              "  </tbody>\n",
              "</table>\n",
              "</div>"
            ],
            "text/plain": [
              "   movieId                              tittle  ... avgrating  year\n",
              "0        1                    Toy Story (1995)  ...  3.920930  1995\n",
              "1        2                      Jumanji (1995)  ...  3.431818  1995\n",
              "2        3             Grumpier Old Men (1995)  ...  3.259615  1995\n",
              "3        4            Waiting to Exhale (1995)  ...  2.357143  1995\n",
              "4        5  Father of the Bride Part II (1995)  ...  3.071429  1995\n",
              "\n",
              "[5 rows x 5 columns]"
            ]
          },
          "metadata": {
            "tags": []
          },
          "execution_count": 82
        }
      ]
    },
    {
      "cell_type": "code",
      "metadata": {
        "id": "xTtnX_0YxaFK",
        "colab_type": "code",
        "colab": {
          "base_uri": "https://localhost:8080/",
          "height": 514
        },
        "outputId": "4d1dc9f3-ffe9-444c-f751-d03e83b6cf14"
      },
      "source": [
        "nota_media_por_ano = filmes_com_media_e_ano.groupby('year')['avgrating'].mean()\n",
        "\n",
        "plt.figure(figsize=(18, 8))\n",
        "nota_media_por_ano.plot()"
      ],
      "execution_count": null,
      "outputs": [
        {
          "output_type": "execute_result",
          "data": {
            "text/plain": [
              "<matplotlib.axes._subplots.AxesSubplot at 0x7f0062797ac8>"
            ]
          },
          "metadata": {
            "tags": []
          },
          "execution_count": 86
        },
        {
          "output_type": "display_data",
          "data": {
            "image/png": "[encoded data removed]",
            "text/plain": [
              "<Figure size 1296x576 with 1 Axes>"
            ]
          },
          "metadata": {
            "tags": []
          }
        }
      ]
    },
    {
      "cell_type": "code",
      "metadata": {
        "id": "rdHtQrFrxaCT",
        "colab_type": "code",
        "colab": {}
      },
      "source": [
        ""
      ],
      "execution_count": null,
      "outputs": []
    }
  ]
}